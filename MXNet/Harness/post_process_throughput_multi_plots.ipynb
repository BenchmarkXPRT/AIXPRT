{
 "cells": [
  {
   "cell_type": "code",
   "execution_count": 1,
   "metadata": {},
   "outputs": [
    {
     "name": "stdout",
     "output_type": "stream",
     "text": [
      "8280_throughput.csv\r\n",
      "9282_throughput.csv\r\n",
      "\u001b[34mV100_10_instance\u001b[m\u001b[m\r\n",
      "\u001b[34mV100_11_instance\u001b[m\u001b[m\r\n",
      "\u001b[34mV100_12_instance\u001b[m\u001b[m\r\n",
      "\u001b[34mV100_13_instance\u001b[m\u001b[m\r\n",
      "\u001b[34mV100_14_instance\u001b[m\u001b[m\r\n",
      "\u001b[34mV100_15_instance\u001b[m\u001b[m\r\n",
      "\u001b[34mV100_16_instance\u001b[m\u001b[m\r\n",
      "\u001b[34mV100_17_instance\u001b[m\u001b[m\r\n",
      "\u001b[34mV100_18_instance\u001b[m\u001b[m\r\n",
      "\u001b[34mV100_19_instance\u001b[m\u001b[m\r\n",
      "\u001b[34mV100_1_instance\u001b[m\u001b[m\r\n",
      "\u001b[34mV100_20_instance\u001b[m\u001b[m\r\n",
      "\u001b[34mV100_2_instance\u001b[m\u001b[m\r\n",
      "\u001b[34mV100_3_instance\u001b[m\u001b[m\r\n",
      "\u001b[34mV100_4_instance\u001b[m\u001b[m\r\n",
      "\u001b[34mV100_5_instance\u001b[m\u001b[m\r\n",
      "\u001b[34mV100_6_instance\u001b[m\u001b[m\r\n",
      "\u001b[34mV100_7_instance\u001b[m\u001b[m\r\n",
      "\u001b[34mV100_8_instance\u001b[m\u001b[m\r\n",
      "\u001b[34mV100_9_instance\u001b[m\u001b[m\r\n",
      "post_process_throughput_multi_plots.ipynb\r\n",
      "throughput.csv\r\n",
      "v100_throughput.csv\r\n"
     ]
    }
   ],
   "source": [
    "# Please ensure the dir structure matches before we run this code.\n",
    "!ls"
   ]
  },
  {
   "cell_type": "markdown",
   "metadata": {},
   "source": [
    "### Get all throughput data with 99% latency from the JSON files"
   ]
  },
  {
   "cell_type": "code",
   "execution_count": 2,
   "metadata": {},
   "outputs": [],
   "source": [
    "import json\n",
    "import pandas as pd"
   ]
  },
  {
   "cell_type": "code",
   "execution_count": 3,
   "metadata": {},
   "outputs": [],
   "source": [
    "def process_one_file(filename):\n",
    "    \"\"\"\n",
    "    Get all throughput numbers from one Json file.\n",
    "    Args:\n",
    "        filename: path to the Json file\n",
    "    Returns:\n",
    "        A list of list of strings of model_name,\n",
    "        instance_count, system_throughput, 99th_latency,\n",
    "        batch_size\n",
    "    \"\"\"\n",
    "    \n",
    "    instance_count = filename.split('_')[1] # GPU is 1, CPU is 2\n",
    "    output = []\n",
    "    with open(filename) as f: \n",
    "        data= json.load(f)\n",
    "\n",
    "        all_results = data['Result']['Deep-Learning']\\\n",
    "                               ['Workloads']\n",
    "\n",
    "        for item in all_results:\n",
    "            model_results = item['results']\n",
    "            for entry in model_results:\n",
    "                one_line= [item['workloadName']]\n",
    "                one_line.append(str(instance_count))\n",
    "                one_line.append(entry['system_throughput'])\n",
    "                one_line.append(float(entry['additional info'][0]\\\n",
    "                                ['99_percentile_time'])/1000)\n",
    "                # latency bug: microsec -> divide by 1000\n",
    "                one_line.append(entry['label'].split(' ')[1])\n",
    "                output.append(one_line)\n",
    "    return output\n",
    "        "
   ]
  },
  {
   "cell_type": "code",
   "execution_count": 4,
   "metadata": {},
   "outputs": [],
   "source": [
    "import os\n",
    "\n",
    "def get_jsons(root_dir):\n",
    "    # get a list of Json filenames in the current folder \n",
    "    # recursively\n",
    "    \n",
    "    output = []\n",
    "    extensions = ['.json']\n",
    "    for subdir, dirs, files in os.walk(root_dir):\n",
    "        for file in files:\n",
    "            ext = os.path.splitext(file)[-1].lower()\n",
    "            if ext in extensions:\n",
    "                output.append(os.path.join(subdir, file))\n",
    "    return output"
   ]
  },
  {
   "cell_type": "code",
   "execution_count": 5,
   "metadata": {},
   "outputs": [],
   "source": [
    "# populating the output CSV by getting results from all\n",
    "# json files\n",
    "\n",
    "content = [['model_name','instance_count', 'system_throughput', \\\n",
    "            '99th_latency', 'batch_size']]\n",
    "\n",
    "all_files = get_jsons('.')\n",
    "\n",
    "for filename in all_files:\n",
    "    result = process_one_file(filename)\n",
    "    content += result"
   ]
  },
  {
   "cell_type": "code",
   "execution_count": 6,
   "metadata": {},
   "outputs": [],
   "source": [
    "# save the output CSV with complete 99% throughput data\n",
    "import csv\n",
    "output_filename = 'throughput.csv'\n",
    "\n",
    "with open(output_filename, \"w\", newline=\"\") as f:\n",
    "    writer = csv.writer(f)\n",
    "    writer.writerows(content)"
   ]
  },
  {
   "cell_type": "markdown",
   "metadata": {},
   "source": [
    "### Plot max throughput VS latency constraints "
   ]
  },
  {
   "cell_type": "code",
   "execution_count": 7,
   "metadata": {},
   "outputs": [
    {
     "data": {
      "text/html": [
       "<div>\n",
       "<table border=\"1\" class=\"dataframe\">\n",
       "  <thead>\n",
       "    <tr style=\"text-align: right;\">\n",
       "      <th></th>\n",
       "      <th>model_name</th>\n",
       "      <th>instance_count</th>\n",
       "      <th>system_throughput</th>\n",
       "      <th>99th_latency</th>\n",
       "      <th>batch_size</th>\n",
       "    </tr>\n",
       "  </thead>\n",
       "  <tbody>\n",
       "    <tr>\n",
       "      <th>0</th>\n",
       "      <td>ResNet-50</td>\n",
       "      <td>5</td>\n",
       "      <td>1957.969445</td>\n",
       "      <td>2.916</td>\n",
       "      <td>1</td>\n",
       "    </tr>\n",
       "    <tr>\n",
       "      <th>1</th>\n",
       "      <td>ResNet-50</td>\n",
       "      <td>5</td>\n",
       "      <td>2539.027390</td>\n",
       "      <td>4.430</td>\n",
       "      <td>2</td>\n",
       "    </tr>\n",
       "    <tr>\n",
       "      <th>2</th>\n",
       "      <td>ResNet-50</td>\n",
       "      <td>5</td>\n",
       "      <td>3366.394129</td>\n",
       "      <td>6.707</td>\n",
       "      <td>4</td>\n",
       "    </tr>\n",
       "    <tr>\n",
       "      <th>3</th>\n",
       "      <td>ResNet-50</td>\n",
       "      <td>5</td>\n",
       "      <td>5038.193918</td>\n",
       "      <td>8.537</td>\n",
       "      <td>8</td>\n",
       "    </tr>\n",
       "    <tr>\n",
       "      <th>4</th>\n",
       "      <td>ResNet-50</td>\n",
       "      <td>5</td>\n",
       "      <td>6035.655029</td>\n",
       "      <td>14.676</td>\n",
       "      <td>16</td>\n",
       "    </tr>\n",
       "  </tbody>\n",
       "</table>\n",
       "</div>"
      ],
      "text/plain": [
       "  model_name  instance_count  system_throughput  99th_latency  batch_size\n",
       "0  ResNet-50               5        1957.969445         2.916           1\n",
       "1  ResNet-50               5        2539.027390         4.430           2\n",
       "2  ResNet-50               5        3366.394129         6.707           4\n",
       "3  ResNet-50               5        5038.193918         8.537           8\n",
       "4  ResNet-50               5        6035.655029        14.676          16"
      ]
     },
     "execution_count": 7,
     "metadata": {},
     "output_type": "execute_result"
    }
   ],
   "source": [
    "# Exam all latency numbers from the saved CSV\n",
    "df = pd.read_csv(output_filename, delimiter = ',')\n",
    "df.head()"
   ]
  },
  {
   "cell_type": "code",
   "execution_count": 8,
   "metadata": {},
   "outputs": [],
   "source": [
    "import numpy as np\n",
    "import matplotlib.pyplot as plt\n",
    "%matplotlib inline \n",
    "\n",
    "def plot_throughput(model_name, lower_latency, higher_latency):\n",
    "    x_vals = range(lower_latency, higher_latency+1)\n",
    "    y_vals = list()\n",
    "    for x in x_vals:\n",
    "        sub_results = df.loc[(df['model_name'] == model_name) \\\n",
    "               & (df['99th_latency'] < x)]\n",
    "        y = sub_results['system_throughput'].max()\n",
    "        y_vals.append(y)\n",
    "    plt.title(model_name +\\\n",
    "              ': maximum throughput with 99% latency bound')\n",
    "    plt.xlabel('latency bound in milli sec')\n",
    "    plt.ylabel('images per sec')\n",
    "    plt.plot(x_vals, y_vals)\n",
    "    \n",
    "    return "
   ]
  },
  {
   "cell_type": "code",
   "execution_count": 9,
   "metadata": {},
   "outputs": [
    {
     "name": "stdout",
     "output_type": "stream",
     "text": [
      "['ResNet-50' 'SSD-MobileNet-v1']\n"
     ]
    }
   ],
   "source": [
    "#Get all model names\n",
    "model_names = (df.model_name.unique())\n",
    "count = len(model_names)\n",
    "lower_latency = 0\n",
    "higher_latency = 50\n",
    "\n",
    "print(model_names)"
   ]
  },
  {
   "cell_type": "code",
   "execution_count": 10,
   "metadata": {},
   "outputs": [
    {
     "data": {
      "image/png": "[encoded data removed]",
      "text/plain": [
       "<matplotlib.figure.Figure at 0x10c983f28>"
      ]
     },
     "metadata": {},
     "output_type": "display_data"
    }
   ],
   "source": [
    "plot_throughput('ResNet-50', lower_latency, higher_latency)"
   ]
  },
  {
   "cell_type": "code",
   "execution_count": 11,
   "metadata": {},
   "outputs": [
    {
     "data": {
      "image/png": "[encoded data removed]",
      "text/plain": [
       "<matplotlib.figure.Figure at 0x10df70c88>"
      ]
     },
     "metadata": {},
     "output_type": "display_data"
    }
   ],
   "source": [
    "plot_throughput('SSD-MobileNet-v1', lower_latency, higher_latency)"
   ]
  },
  {
   "cell_type": "code",
   "execution_count": 12,
   "metadata": {},
   "outputs": [],
   "source": [
    "### plot multiplt HW together\n"
   ]
  },
  {
   "cell_type": "code",
   "execution_count": 14,
   "metadata": {},
   "outputs": [
    {
     "data": {
      "text/html": [
       "<div>\n",
       "<table border=\"1\" class=\"dataframe\">\n",
       "  <thead>\n",
       "    <tr style=\"text-align: right;\">\n",
       "      <th></th>\n",
       "      <th>model_name</th>\n",
       "      <th>instance_count</th>\n",
       "      <th>system_throughput</th>\n",
       "      <th>99th_latency</th>\n",
       "      <th>batch_size</th>\n",
       "    </tr>\n",
       "  </thead>\n",
       "  <tbody>\n",
       "    <tr>\n",
       "      <th>0</th>\n",
       "      <td>ResNet-50</td>\n",
       "      <td>34</td>\n",
       "      <td>4225.411</td>\n",
       "      <td>23.898056</td>\n",
       "      <td>1</td>\n",
       "    </tr>\n",
       "    <tr>\n",
       "      <th>1</th>\n",
       "      <td>ResNet-50</td>\n",
       "      <td>34</td>\n",
       "      <td>4063.997</td>\n",
       "      <td>81.958531</td>\n",
       "      <td>2</td>\n",
       "    </tr>\n",
       "    <tr>\n",
       "      <th>2</th>\n",
       "      <td>ResNet-50</td>\n",
       "      <td>34</td>\n",
       "      <td>4281.662</td>\n",
       "      <td>116.881646</td>\n",
       "      <td>4</td>\n",
       "    </tr>\n",
       "    <tr>\n",
       "      <th>3</th>\n",
       "      <td>ResNet-50</td>\n",
       "      <td>34</td>\n",
       "      <td>4539.925</td>\n",
       "      <td>211.653048</td>\n",
       "      <td>8</td>\n",
       "    </tr>\n",
       "    <tr>\n",
       "      <th>4</th>\n",
       "      <td>ResNet-50</td>\n",
       "      <td>34</td>\n",
       "      <td>4628.971</td>\n",
       "      <td>322.726315</td>\n",
       "      <td>16</td>\n",
       "    </tr>\n",
       "  </tbody>\n",
       "</table>\n",
       "</div>"
      ],
      "text/plain": [
       "  model_name  instance_count  system_throughput  99th_latency  batch_size\n",
       "0  ResNet-50              34           4225.411     23.898056           1\n",
       "1  ResNet-50              34           4063.997     81.958531           2\n",
       "2  ResNet-50              34           4281.662    116.881646           4\n",
       "3  ResNet-50              34           4539.925    211.653048           8\n",
       "4  ResNet-50              34           4628.971    322.726315          16"
      ]
     },
     "execution_count": 14,
     "metadata": {},
     "output_type": "execute_result"
    }
   ],
   "source": [
    "# Exam all latency numbers from the saved CSV\n",
    "\n",
    "cpu_name = '9282'\n",
    "\n",
    "cpu_df = pd.read_csv(cpu_name + '_throughput.csv', delimiter = ',')\n",
    "cpu_df.head()\n"
   ]
  },
  {
   "cell_type": "code",
   "execution_count": 15,
   "metadata": {},
   "outputs": [
    {
     "data": {
      "text/html": [
       "<div>\n",
       "<table border=\"1\" class=\"dataframe\">\n",
       "  <thead>\n",
       "    <tr style=\"text-align: right;\">\n",
       "      <th></th>\n",
       "      <th>model_name</th>\n",
       "      <th>instance_count</th>\n",
       "      <th>system_throughput</th>\n",
       "      <th>99th_latency</th>\n",
       "      <th>batch_size</th>\n",
       "      <th>Unnamed: 5</th>\n",
       "      <th>Unnamed: 6</th>\n",
       "    </tr>\n",
       "  </thead>\n",
       "  <tbody>\n",
       "    <tr>\n",
       "      <th>0</th>\n",
       "      <td>ResNet-50</td>\n",
       "      <td>1</td>\n",
       "      <td>908.360784</td>\n",
       "      <td>1.226323</td>\n",
       "      <td>1</td>\n",
       "      <td>NaN</td>\n",
       "      <td>0.001226</td>\n",
       "    </tr>\n",
       "    <tr>\n",
       "      <th>1</th>\n",
       "      <td>SSD-MobileNet-v1</td>\n",
       "      <td>1</td>\n",
       "      <td>510.427856</td>\n",
       "      <td>2.114723</td>\n",
       "      <td>1</td>\n",
       "      <td>NaN</td>\n",
       "      <td>0.002115</td>\n",
       "    </tr>\n",
       "    <tr>\n",
       "      <th>2</th>\n",
       "      <td>ResNet-50</td>\n",
       "      <td>1</td>\n",
       "      <td>1276.128057</td>\n",
       "      <td>1.718094</td>\n",
       "      <td>2</td>\n",
       "      <td>NaN</td>\n",
       "      <td>0.001718</td>\n",
       "    </tr>\n",
       "    <tr>\n",
       "      <th>3</th>\n",
       "      <td>SSD-MobileNet-v1</td>\n",
       "      <td>1</td>\n",
       "      <td>961.440186</td>\n",
       "      <td>2.293971</td>\n",
       "      <td>2</td>\n",
       "      <td>NaN</td>\n",
       "      <td>0.002294</td>\n",
       "    </tr>\n",
       "    <tr>\n",
       "      <th>4</th>\n",
       "      <td>ResNet-50</td>\n",
       "      <td>1</td>\n",
       "      <td>1501.868270</td>\n",
       "      <td>3.022011</td>\n",
       "      <td>4</td>\n",
       "      <td>NaN</td>\n",
       "      <td>0.003022</td>\n",
       "    </tr>\n",
       "  </tbody>\n",
       "</table>\n",
       "</div>"
      ],
      "text/plain": [
       "         model_name  instance_count  system_throughput  99th_latency  \\\n",
       "0         ResNet-50               1         908.360784      1.226323   \n",
       "1  SSD-MobileNet-v1               1         510.427856      2.114723   \n",
       "2         ResNet-50               1        1276.128057      1.718094   \n",
       "3  SSD-MobileNet-v1               1         961.440186      2.293971   \n",
       "4         ResNet-50               1        1501.868270      3.022011   \n",
       "\n",
       "   batch_size  Unnamed: 5  Unnamed: 6  \n",
       "0           1         NaN    0.001226  \n",
       "1           1         NaN    0.002115  \n",
       "2           2         NaN    0.001718  \n",
       "3           2         NaN    0.002294  \n",
       "4           4         NaN    0.003022  "
      ]
     },
     "execution_count": 15,
     "metadata": {},
     "output_type": "execute_result"
    }
   ],
   "source": [
    "gpu_df = pd.read_csv('V100_throughput.csv', delimiter = ',')\n",
    "gpu_df.head()"
   ]
  },
  {
   "cell_type": "code",
   "execution_count": 16,
   "metadata": {},
   "outputs": [],
   "source": [
    "def get_y_vals(df, model_name, x_vals):\n",
    "    y_vals = list()\n",
    "    for x in x_vals:\n",
    "        sub_results = df.loc[(df['model_name'] == model_name) \\\n",
    "               & (df['99th_latency'] < x)]\n",
    "        y = sub_results['system_throughput'].max()\n",
    "        y_vals.append(y)\n",
    "    return y_vals\n",
    "    \n",
    "\n",
    "\n",
    "def plot_throughput_two_hw(model_name, cpu_df, gpu_df, \\\n",
    "                           lower_latency, higher_latency,\n",
    "                          vert_latency):\n",
    "    x_vals = range(lower_latency, higher_latency+1)\n",
    "    cpu_y_vals = get_y_vals(cpu_df, model_name, x_vals)\n",
    "    gpu_y_vals = get_y_vals(gpu_df, model_name, x_vals)\n",
    "    \n",
    "    plt.title(model_name +\\\n",
    "              ': maximum throughput with 99% latency bound')\n",
    "    plt.xlabel('latency bound in milli sec')\n",
    "    plt.ylabel('images per sec')\n",
    "    plt.plot(x_vals, cpu_y_vals, 'blue', label = cpu_name)\n",
    "    plt.plot(x_vals, gpu_y_vals, 'green', label = 'V100')\n",
    "    plt.axvline(x=vert_latency)\n",
    "    plt.legend(loc='middle right')\n",
    "\n",
    "    \n",
    "    return \n",
    "\n"
   ]
  },
  {
   "cell_type": "code",
   "execution_count": 17,
   "metadata": {},
   "outputs": [
    {
     "data": {
      "image/png": "[encoded data removed]",
      "text/plain": [
       "<matplotlib.figure.Figure at 0x10e108940>"
      ]
     },
     "metadata": {},
     "output_type": "display_data"
    }
   ],
   "source": [
    "plot_throughput_two_hw('ResNet-50',cpu_df, gpu_df, lower_latency, higher_latency, 15)"
   ]
  },
  {
   "cell_type": "code",
   "execution_count": 18,
   "metadata": {},
   "outputs": [
    {
     "data": {
      "image/png": "[encoded data removed]",
      "text/plain": [
       "<matplotlib.figure.Figure at 0x10dee9860>"
      ]
     },
     "metadata": {},
     "output_type": "display_data"
    }
   ],
   "source": [
    "plot_throughput_two_hw('SSD-MobileNet-v1',cpu_df, gpu_df, lower_latency, higher_latency, 10)"
   ]
  },
  {
   "cell_type": "code",
   "execution_count": null,
   "metadata": {},
   "outputs": [],
   "source": []
  },
  {
   "cell_type": "code",
   "execution_count": null,
   "metadata": {},
   "outputs": [],
   "source": []
  }
 ],
 "metadata": {
  "kernelspec": {
   "display_name": "Python 3",
   "language": "python",
   "name": "python3"
  },
  "language_info": {
   "codemirror_mode": {
    "name": "ipython",
    "version": 3
   },
   "file_extension": ".py",
   "mimetype": "text/x-python",
   "name": "python",
   "nbconvert_exporter": "python",
   "pygments_lexer": "ipython3",
   "version": "3.5.2"
  }
 },
 "nbformat": 4,
 "nbformat_minor": 2
}
